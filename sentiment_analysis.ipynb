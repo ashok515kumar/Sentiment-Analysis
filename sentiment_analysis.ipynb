{
 "cells": [
  {
   "cell_type": "code",
   "execution_count": 2,
   "id": "52025255",
   "metadata": {},
   "outputs": [],
   "source": [
    "import pandas as pd\n",
    "import numpy as np\n",
    "from sklearn.feature_extraction.text import CountVectorizer\n",
    "from sklearn.model_selection import train_test_split\n",
    "from sklearn.tree import DecisionTreeClassifier\n",
    "import re\n",
    "import nltk\n",
    "import nltk\n",
    "import string\n",
    "import glob\n",
    "import seaborn as sns\n",
    "from wordcloud import WordCloud, STOPWORDS, ImageColorGenerator\n",
    "import matplotlib.pyplot as plt\n",
    "import string\n",
    "from nltk.stem.porter import PorterStemmer\n",
    "from nltk.stem import WordNetLemmatizer\n",
    "from nltk.sentiment.vader import SentimentIntensityAnalyzer\n",
    "from nltk.tokenize import TweetTokenizer"
   ]
  },
  {
   "cell_type": "code",
   "execution_count": 3,
   "id": "9ee7ecf3",
   "metadata": {},
   "outputs": [
    {
     "data": {
      "text/plain": [
       "Index(['_type', 'url', 'date', 'content', 'renderedContent', 'id', 'user',\n",
       "       'replyCount', 'retweetCount', 'likeCount', 'quoteCount',\n",
       "       'conversationId', 'lang', 'source', 'sourceUrl', 'sourceLabel',\n",
       "       'outlinks', 'tcooutlinks', 'media', 'retweetedTweet', 'quotedTweet',\n",
       "       'inReplyToTweetId', 'inReplyToUser', 'mentionedUsers', 'coordinates',\n",
       "       'place', 'hashtags', 'cashtags', 'Searh'],\n",
       "      dtype='object')"
      ]
     },
     "execution_count": 3,
     "metadata": {},
     "output_type": "execute_result"
    }
   ],
   "source": [
    "# Data Reading\n",
    "path = \"Data\"\n",
    "df  = pd.concat(map(pd.read_csv, glob.glob(path + \"/*.csv\")))\n",
    "df.columns"
   ]
  },
  {
   "cell_type": "code",
   "execution_count": 4,
   "id": "0a960f3b",
   "metadata": {},
   "outputs": [
    {
     "data": {
      "text/plain": [
       "<AxesSubplot:ylabel='lang'>"
      ]
     },
     "execution_count": 4,
     "metadata": {},
     "output_type": "execute_result"
    },
    {
     "data": {
      "image/png": "[encoded data removed]",
      "text/plain": [
       "<Figure size 432x288 with 1 Axes>"
      ]
     },
     "metadata": {
      "needs_background": "light"
     },
     "output_type": "display_data"
    }
   ],
   "source": [
    "# Shows different language in the form of bar plot\n",
    "sns.barplot(x = df.lang.value_counts()[:5].index, y = df.lang.value_counts()[:5], errcolor='.26', errwidth='.25')"
   ]
  },
  {
   "cell_type": "code",
   "execution_count": 5,
   "id": "04806dc5",
   "metadata": {},
   "outputs": [
    {
     "name": "stdout",
     "output_type": "stream",
     "text": [
      "                                             content lang\n",
      "0  Is that the same expensive and ineffective bor...   en\n",
      "1  @DonWaifu @gabehayes @aaronjmate So the Americ...   en\n",
      "2  Maybe if one military unit from Ukraine crosse...   en\n",
      "3  Volunteers cross Polish border into Ukraine to...   en\n",
      "4  @MarkHertling BUT... theres no Russian aircraf...   en\n"
     ]
    }
   ],
   "source": [
    "df = df[[\"content\", \"lang\"]]\n",
    "print(df.head())"
   ]
  },
  {
   "cell_type": "code",
   "execution_count": null,
   "id": "b8f1ae16",
   "metadata": {},
   "outputs": [],
   "source": []
  },
  {
   "cell_type": "code",
   "execution_count": 6,
   "id": "27bd1318",
   "metadata": {},
   "outputs": [
    {
     "data": {
      "text/plain": [
       "1095979"
      ]
     },
     "execution_count": 6,
     "metadata": {},
     "output_type": "execute_result"
    }
   ],
   "source": [
    "# Drop NULL and duplicate values from content field\n",
    "df = df.dropna(subset=['content'])\n",
    " # It will remove duplicates as well as it converts into lowercase letters\n",
    "df = df.apply(lambda x: x.astype(str).str.lower()).drop_duplicates(subset=['content'])\n",
    "len(df)"
   ]
  },
  {
   "cell_type": "code",
   "execution_count": 7,
   "id": "2be0f8ba",
   "metadata": {},
   "outputs": [
    {
     "data": {
      "text/plain": [
       "en    992928\n",
       "Name: lang, dtype: int64"
      ]
     },
     "execution_count": 7,
     "metadata": {},
     "output_type": "execute_result"
    }
   ],
   "source": [
    "# Remove all other language tweets apart from english\n",
    "df = df.loc[df['lang'] == 'en']\n",
    "df.lang.value_counts()"
   ]
  },
  {
   "cell_type": "code",
   "execution_count": 8,
   "id": "55e5d46e",
   "metadata": {},
   "outputs": [
    {
     "data": {
      "text/plain": [
       "0    is that the same expensive and ineffective bor...\n",
       "0    @radiofreetom so if putin have russian troops ...\n",
       "0    joe biden says how do we get to a place where ...\n",
       "0    @ritchietorres please get it done!! arm ukrain...\n",
       "0    @younes_messili israel-palestine issue is a bi...\n",
       "0    @ronanmcmanus @carolecadwalla @estellecostanza...\n",
       "0    there was an anti war protest for #ukraine as ...\n",
       "Name: content, dtype: object"
      ]
     },
     "execution_count": 8,
     "metadata": {},
     "output_type": "execute_result"
    }
   ],
   "source": [
    "df['content'][0]"
   ]
  },
  {
   "cell_type": "code",
   "execution_count": 9,
   "id": "7ca46287",
   "metadata": {},
   "outputs": [
    {
     "data": {
      "text/plain": [
       "0         [is, that, the, same, expensive, and, ineffect...\n",
       "1         [@donwaifu, @gabehayes, @aaronjmate, so, the, ...\n",
       "2         [maybe, if, one, military, unit, from, ukraine...\n",
       "3         [volunteers, cross, polish, border, into, ukra...\n",
       "4         [@markhertling, but, ..., theres, no, russian,...\n",
       "                                ...                        \n",
       "231619    [rusia, wants, to, take, back, ukraine, ,, the...\n",
       "231620    [a, positive, for, russia, is, that, ,, accord...\n",
       "231621    [@kylegriffin1, @karyn_resists, “, further, in...\n",
       "231622    [@remid0d0s0, @billkristol, i, fully, support,...\n",
       "231623    [biden, warns, putin, ?, what, does, acting, d...\n",
       "Name: content, Length: 992928, dtype: object"
      ]
     },
     "execution_count": 9,
     "metadata": {},
     "output_type": "execute_result"
    }
   ],
   "source": [
    "# Tokenization\n",
    "tt = TweetTokenizer()\n",
    "df['content'].apply(tt.tokenize)"
   ]
  },
  {
   "cell_type": "code",
   "execution_count": 10,
   "id": "9ae81197",
   "metadata": {},
   "outputs": [
    {
     "name": "stderr",
     "output_type": "stream",
     "text": [
      "[nltk_data] Downloading package stopwords to\n",
      "[nltk_data]     C:\\Users\\ashok\\AppData\\Roaming\\nltk_data...\n",
      "[nltk_data]   Package stopwords is already up-to-date!\n"
     ]
    }
   ],
   "source": [
    "nltk.download('stopwords')\n",
    "stemmer = nltk.SnowballStemmer(\"english\")\n",
    "from nltk.corpus import stopwords\n",
    "import string\n",
    "stopword=set(stopwords.words('english'))\n",
    "\n",
    "# clean texts\n",
    "def clean(text):\n",
    "    text = str(text).lower()\n",
    "    text = re.sub('\\[.*?\\]', '', text)\n",
    "    text = re.sub('https?://\\S+|www\\.\\S+', '', text)\n",
    "    text = re.sub('<.*?>+', '', text)\n",
    "    text = re.sub('[%s]' % re.escape(string.punctuation), '', text)\n",
    "    text = re.sub('\\n', '', text)\n",
    "    text = re.sub('\\w*\\d\\w*', '', text)\n",
    "    text = [word for word in text.split(' ') if word not in stopword]\n",
    "    text=\" \".join(text)\n",
    "    text = [stemmer.stem(word) for word in text.split(' ')]\n",
    "    text=\" \".join(text)\n",
    "    return text\n",
    "\n",
    "df[\"content\"] = df[\"content\"].apply(clean)"
   ]
  },
  {
   "cell_type": "code",
   "execution_count": 11,
   "id": "4f2008f3",
   "metadata": {},
   "outputs": [
    {
     "data": {
      "text/html": [
       "<div>\n",
       "<style scoped>\n",
       "    .dataframe tbody tr th:only-of-type {\n",
       "        vertical-align: middle;\n",
       "    }\n",
       "\n",
       "    .dataframe tbody tr th {\n",
       "        vertical-align: top;\n",
       "    }\n",
       "\n",
       "    .dataframe thead th {\n",
       "        text-align: right;\n",
       "    }\n",
       "</style>\n",
       "<table border=\"1\" class=\"dataframe\">\n",
       "  <thead>\n",
       "    <tr style=\"text-align: right;\">\n",
       "      <th></th>\n",
       "      <th>content</th>\n",
       "      <th>lang</th>\n",
       "      <th>text_wo_punct</th>\n",
       "    </tr>\n",
       "  </thead>\n",
       "  <tbody>\n",
       "    <tr>\n",
       "      <th>0</th>\n",
       "      <td>expens ineffect border wall smuggler breach  t...</td>\n",
       "      <td>en</td>\n",
       "      <td>expens ineffect border wall smuggler breach  t...</td>\n",
       "    </tr>\n",
       "    <tr>\n",
       "      <th>1</th>\n",
       "      <td>donwaifu gabehay aaronjm american dress russia...</td>\n",
       "      <td>en</td>\n",
       "      <td>donwaifu gabehay aaronjm american dress russia...</td>\n",
       "    </tr>\n",
       "    <tr>\n",
       "      <th>2</th>\n",
       "      <td>mayb one militari unit ukrain cross border ini...</td>\n",
       "      <td>en</td>\n",
       "      <td>mayb one militari unit ukrain cross border ini...</td>\n",
       "    </tr>\n",
       "    <tr>\n",
       "      <th>3</th>\n",
       "      <td>volunt cross polish border ukrain fight russia...</td>\n",
       "      <td>en</td>\n",
       "      <td>volunt cross polish border ukrain fight russia...</td>\n",
       "    </tr>\n",
       "    <tr>\n",
       "      <th>4</th>\n",
       "      <td>markhertl there russian aircraft fli near lviv...</td>\n",
       "      <td>en</td>\n",
       "      <td>markhertl there russian aircraft fli near lviv...</td>\n",
       "    </tr>\n",
       "  </tbody>\n",
       "</table>\n",
       "</div>"
      ],
      "text/plain": [
       "                                             content lang  \\\n",
       "0  expens ineffect border wall smuggler breach  t...   en   \n",
       "1  donwaifu gabehay aaronjm american dress russia...   en   \n",
       "2  mayb one militari unit ukrain cross border ini...   en   \n",
       "3  volunt cross polish border ukrain fight russia...   en   \n",
       "4  markhertl there russian aircraft fli near lviv...   en   \n",
       "\n",
       "                                       text_wo_punct  \n",
       "0  expens ineffect border wall smuggler breach  t...  \n",
       "1  donwaifu gabehay aaronjm american dress russia...  \n",
       "2  mayb one militari unit ukrain cross border ini...  \n",
       "3  volunt cross polish border ukrain fight russia...  \n",
       "4  markhertl there russian aircraft fli near lviv...  "
      ]
     },
     "execution_count": 11,
     "metadata": {},
     "output_type": "execute_result"
    }
   ],
   "source": [
    "# Remove punctuation from the text\n",
    "PUNCT_TO_REMOVE = string.punctuation\n",
    "def rm_punct(text):\n",
    "    return text.translate(str.maketrans('', '', PUNCT_TO_REMOVE))\n",
    "\n",
    "df[\"text_wo_punct\"] = df[\"content\"].apply(lambda content: rm_punct(content))\n",
    "df.head()"
   ]
  },
  {
   "cell_type": "code",
   "execution_count": 12,
   "id": "d369da6c",
   "metadata": {},
   "outputs": [
    {
     "data": {
      "text/html": [
       "<div>\n",
       "<style scoped>\n",
       "    .dataframe tbody tr th:only-of-type {\n",
       "        vertical-align: middle;\n",
       "    }\n",
       "\n",
       "    .dataframe tbody tr th {\n",
       "        vertical-align: top;\n",
       "    }\n",
       "\n",
       "    .dataframe thead th {\n",
       "        text-align: right;\n",
       "    }\n",
       "</style>\n",
       "<table border=\"1\" class=\"dataframe\">\n",
       "  <thead>\n",
       "    <tr style=\"text-align: right;\">\n",
       "      <th></th>\n",
       "      <th>content</th>\n",
       "      <th>lang</th>\n",
       "      <th>text_wo_punct</th>\n",
       "      <th>text_wo_stop</th>\n",
       "    </tr>\n",
       "  </thead>\n",
       "  <tbody>\n",
       "    <tr>\n",
       "      <th>0</th>\n",
       "      <td>expens ineffect border wall smuggler breach  t...</td>\n",
       "      <td>en</td>\n",
       "      <td>expens ineffect border wall smuggler breach  t...</td>\n",
       "      <td>expens ineffect border wall smuggler breach ti...</td>\n",
       "    </tr>\n",
       "    <tr>\n",
       "      <th>1</th>\n",
       "      <td>donwaifu gabehay aaronjm american dress russia...</td>\n",
       "      <td>en</td>\n",
       "      <td>donwaifu gabehay aaronjm american dress russia...</td>\n",
       "      <td>donwaifu gabehay aaronjm american dress russia...</td>\n",
       "    </tr>\n",
       "    <tr>\n",
       "      <th>2</th>\n",
       "      <td>mayb one militari unit ukrain cross border ini...</td>\n",
       "      <td>en</td>\n",
       "      <td>mayb one militari unit ukrain cross border ini...</td>\n",
       "      <td>mayb one militari unit ukrain cross border ini...</td>\n",
       "    </tr>\n",
       "    <tr>\n",
       "      <th>3</th>\n",
       "      <td>volunt cross polish border ukrain fight russia...</td>\n",
       "      <td>en</td>\n",
       "      <td>volunt cross polish border ukrain fight russia...</td>\n",
       "      <td>volunt cross polish border ukrain fight russia...</td>\n",
       "    </tr>\n",
       "    <tr>\n",
       "      <th>4</th>\n",
       "      <td>markhertl there russian aircraft fli near lviv...</td>\n",
       "      <td>en</td>\n",
       "      <td>markhertl there russian aircraft fli near lviv...</td>\n",
       "      <td>markhertl russian aircraft fli near lviv carv ...</td>\n",
       "    </tr>\n",
       "  </tbody>\n",
       "</table>\n",
       "</div>"
      ],
      "text/plain": [
       "                                             content lang  \\\n",
       "0  expens ineffect border wall smuggler breach  t...   en   \n",
       "1  donwaifu gabehay aaronjm american dress russia...   en   \n",
       "2  mayb one militari unit ukrain cross border ini...   en   \n",
       "3  volunt cross polish border ukrain fight russia...   en   \n",
       "4  markhertl there russian aircraft fli near lviv...   en   \n",
       "\n",
       "                                       text_wo_punct  \\\n",
       "0  expens ineffect border wall smuggler breach  t...   \n",
       "1  donwaifu gabehay aaronjm american dress russia...   \n",
       "2  mayb one militari unit ukrain cross border ini...   \n",
       "3  volunt cross polish border ukrain fight russia...   \n",
       "4  markhertl there russian aircraft fli near lviv...   \n",
       "\n",
       "                                        text_wo_stop  \n",
       "0  expens ineffect border wall smuggler breach ti...  \n",
       "1  donwaifu gabehay aaronjm american dress russia...  \n",
       "2  mayb one militari unit ukrain cross border ini...  \n",
       "3  volunt cross polish border ukrain fight russia...  \n",
       "4  markhertl russian aircraft fli near lviv carv ...  "
      ]
     },
     "execution_count": 12,
     "metadata": {},
     "output_type": "execute_result"
    }
   ],
   "source": [
    "STOP = set(STOPWORDS)\n",
    "def rm_stop(word):\n",
    "    return \" \".join([i for i in str(word).split() if i not in STOP])\n",
    "\n",
    "df[\"text_wo_stop\"] = df[\"text_wo_punct\"].apply(lambda content: rm_stop(content))\n",
    "df.head()"
   ]
  },
  {
   "cell_type": "code",
   "execution_count": 13,
   "id": "52736cde",
   "metadata": {},
   "outputs": [
    {
     "data": {
      "text/html": [
       "<div>\n",
       "<style scoped>\n",
       "    .dataframe tbody tr th:only-of-type {\n",
       "        vertical-align: middle;\n",
       "    }\n",
       "\n",
       "    .dataframe tbody tr th {\n",
       "        vertical-align: top;\n",
       "    }\n",
       "\n",
       "    .dataframe thead th {\n",
       "        text-align: right;\n",
       "    }\n",
       "</style>\n",
       "<table border=\"1\" class=\"dataframe\">\n",
       "  <thead>\n",
       "    <tr style=\"text-align: right;\">\n",
       "      <th></th>\n",
       "      <th>content</th>\n",
       "      <th>lang</th>\n",
       "      <th>text_wo_punct</th>\n",
       "      <th>text_wo_stop</th>\n",
       "      <th>text_stemmed</th>\n",
       "    </tr>\n",
       "  </thead>\n",
       "  <tbody>\n",
       "    <tr>\n",
       "      <th>0</th>\n",
       "      <td>expens ineffect border wall smuggler breach  t...</td>\n",
       "      <td>en</td>\n",
       "      <td>expens ineffect border wall smuggler breach  t...</td>\n",
       "      <td>expens ineffect border wall smuggler breach ti...</td>\n",
       "      <td>expen ineffect border wall smuggler breach tim...</td>\n",
       "    </tr>\n",
       "    <tr>\n",
       "      <th>1</th>\n",
       "      <td>donwaifu gabehay aaronjm american dress russia...</td>\n",
       "      <td>en</td>\n",
       "      <td>donwaifu gabehay aaronjm american dress russia...</td>\n",
       "      <td>donwaifu gabehay aaronjm american dress russia...</td>\n",
       "      <td>donwaifu gabehay aaronjm american dress russia...</td>\n",
       "    </tr>\n",
       "    <tr>\n",
       "      <th>2</th>\n",
       "      <td>mayb one militari unit ukrain cross border ini...</td>\n",
       "      <td>en</td>\n",
       "      <td>mayb one militari unit ukrain cross border ini...</td>\n",
       "      <td>mayb one militari unit ukrain cross border ini...</td>\n",
       "      <td>mayb one militari unit ukrain cross border ini...</td>\n",
       "    </tr>\n",
       "    <tr>\n",
       "      <th>3</th>\n",
       "      <td>volunt cross polish border ukrain fight russia...</td>\n",
       "      <td>en</td>\n",
       "      <td>volunt cross polish border ukrain fight russia...</td>\n",
       "      <td>volunt cross polish border ukrain fight russia...</td>\n",
       "      <td>volunt cross polish border ukrain fight russia...</td>\n",
       "    </tr>\n",
       "    <tr>\n",
       "      <th>4</th>\n",
       "      <td>markhertl there russian aircraft fli near lviv...</td>\n",
       "      <td>en</td>\n",
       "      <td>markhertl there russian aircraft fli near lviv...</td>\n",
       "      <td>markhertl russian aircraft fli near lviv carv ...</td>\n",
       "      <td>markhertl russian aircraft fli near lviv carv ...</td>\n",
       "    </tr>\n",
       "  </tbody>\n",
       "</table>\n",
       "</div>"
      ],
      "text/plain": [
       "                                             content lang  \\\n",
       "0  expens ineffect border wall smuggler breach  t...   en   \n",
       "1  donwaifu gabehay aaronjm american dress russia...   en   \n",
       "2  mayb one militari unit ukrain cross border ini...   en   \n",
       "3  volunt cross polish border ukrain fight russia...   en   \n",
       "4  markhertl there russian aircraft fli near lviv...   en   \n",
       "\n",
       "                                       text_wo_punct  \\\n",
       "0  expens ineffect border wall smuggler breach  t...   \n",
       "1  donwaifu gabehay aaronjm american dress russia...   \n",
       "2  mayb one militari unit ukrain cross border ini...   \n",
       "3  volunt cross polish border ukrain fight russia...   \n",
       "4  markhertl there russian aircraft fli near lviv...   \n",
       "\n",
       "                                        text_wo_stop  \\\n",
       "0  expens ineffect border wall smuggler breach ti...   \n",
       "1  donwaifu gabehay aaronjm american dress russia...   \n",
       "2  mayb one militari unit ukrain cross border ini...   \n",
       "3  volunt cross polish border ukrain fight russia...   \n",
       "4  markhertl russian aircraft fli near lviv carv ...   \n",
       "\n",
       "                                        text_stemmed  \n",
       "0  expen ineffect border wall smuggler breach tim...  \n",
       "1  donwaifu gabehay aaronjm american dress russia...  \n",
       "2  mayb one militari unit ukrain cross border ini...  \n",
       "3  volunt cross polish border ukrain fight russia...  \n",
       "4  markhertl russian aircraft fli near lviv carv ...  "
      ]
     },
     "execution_count": 13,
     "metadata": {},
     "output_type": "execute_result"
    }
   ],
   "source": [
    "stem = PorterStemmer()\n",
    "def stem_words(val):\n",
    "    return \" \".join([stem.stem(i) for i in val.split()])\n",
    "\n",
    "df[\"text_stemmed\"] = df[\"text_wo_stop\"].apply(lambda content: stem_words(content))\n",
    "df.head()"
   ]
  },
  {
   "cell_type": "code",
   "execution_count": 14,
   "id": "18659b1a",
   "metadata": {},
   "outputs": [
    {
     "data": {
      "text/html": [
       "<div>\n",
       "<style scoped>\n",
       "    .dataframe tbody tr th:only-of-type {\n",
       "        vertical-align: middle;\n",
       "    }\n",
       "\n",
       "    .dataframe tbody tr th {\n",
       "        vertical-align: top;\n",
       "    }\n",
       "\n",
       "    .dataframe thead th {\n",
       "        text-align: right;\n",
       "    }\n",
       "</style>\n",
       "<table border=\"1\" class=\"dataframe\">\n",
       "  <thead>\n",
       "    <tr style=\"text-align: right;\">\n",
       "      <th></th>\n",
       "      <th>content</th>\n",
       "      <th>lang</th>\n",
       "      <th>text_wo_punct</th>\n",
       "      <th>text_wo_stop</th>\n",
       "      <th>text_stemmed</th>\n",
       "      <th>text_lemmatized</th>\n",
       "    </tr>\n",
       "  </thead>\n",
       "  <tbody>\n",
       "    <tr>\n",
       "      <th>0</th>\n",
       "      <td>expens ineffect border wall smuggler breach  t...</td>\n",
       "      <td>en</td>\n",
       "      <td>expens ineffect border wall smuggler breach  t...</td>\n",
       "      <td>expens ineffect border wall smuggler breach ti...</td>\n",
       "      <td>expen ineffect border wall smuggler breach tim...</td>\n",
       "      <td>expen ineffect border wall smuggler breach tim...</td>\n",
       "    </tr>\n",
       "    <tr>\n",
       "      <th>1</th>\n",
       "      <td>donwaifu gabehay aaronjm american dress russia...</td>\n",
       "      <td>en</td>\n",
       "      <td>donwaifu gabehay aaronjm american dress russia...</td>\n",
       "      <td>donwaifu gabehay aaronjm american dress russia...</td>\n",
       "      <td>donwaifu gabehay aaronjm american dress russia...</td>\n",
       "      <td>donwaifu gabehay aaronjm american dress russia...</td>\n",
       "    </tr>\n",
       "    <tr>\n",
       "      <th>2</th>\n",
       "      <td>mayb one militari unit ukrain cross border ini...</td>\n",
       "      <td>en</td>\n",
       "      <td>mayb one militari unit ukrain cross border ini...</td>\n",
       "      <td>mayb one militari unit ukrain cross border ini...</td>\n",
       "      <td>mayb one militari unit ukrain cross border ini...</td>\n",
       "      <td>mayb one militari unit ukrain cross border ini...</td>\n",
       "    </tr>\n",
       "    <tr>\n",
       "      <th>3</th>\n",
       "      <td>volunt cross polish border ukrain fight russia...</td>\n",
       "      <td>en</td>\n",
       "      <td>volunt cross polish border ukrain fight russia...</td>\n",
       "      <td>volunt cross polish border ukrain fight russia...</td>\n",
       "      <td>volunt cross polish border ukrain fight russia...</td>\n",
       "      <td>volunt cross polish border ukrain fight russia...</td>\n",
       "    </tr>\n",
       "    <tr>\n",
       "      <th>4</th>\n",
       "      <td>markhertl there russian aircraft fli near lviv...</td>\n",
       "      <td>en</td>\n",
       "      <td>markhertl there russian aircraft fli near lviv...</td>\n",
       "      <td>markhertl russian aircraft fli near lviv carv ...</td>\n",
       "      <td>markhertl russian aircraft fli near lviv carv ...</td>\n",
       "      <td>markhertl russian aircraft fli near lviv carv ...</td>\n",
       "    </tr>\n",
       "  </tbody>\n",
       "</table>\n",
       "</div>"
      ],
      "text/plain": [
       "                                             content lang  \\\n",
       "0  expens ineffect border wall smuggler breach  t...   en   \n",
       "1  donwaifu gabehay aaronjm american dress russia...   en   \n",
       "2  mayb one militari unit ukrain cross border ini...   en   \n",
       "3  volunt cross polish border ukrain fight russia...   en   \n",
       "4  markhertl there russian aircraft fli near lviv...   en   \n",
       "\n",
       "                                       text_wo_punct  \\\n",
       "0  expens ineffect border wall smuggler breach  t...   \n",
       "1  donwaifu gabehay aaronjm american dress russia...   \n",
       "2  mayb one militari unit ukrain cross border ini...   \n",
       "3  volunt cross polish border ukrain fight russia...   \n",
       "4  markhertl there russian aircraft fli near lviv...   \n",
       "\n",
       "                                        text_wo_stop  \\\n",
       "0  expens ineffect border wall smuggler breach ti...   \n",
       "1  donwaifu gabehay aaronjm american dress russia...   \n",
       "2  mayb one militari unit ukrain cross border ini...   \n",
       "3  volunt cross polish border ukrain fight russia...   \n",
       "4  markhertl russian aircraft fli near lviv carv ...   \n",
       "\n",
       "                                        text_stemmed  \\\n",
       "0  expen ineffect border wall smuggler breach tim...   \n",
       "1  donwaifu gabehay aaronjm american dress russia...   \n",
       "2  mayb one militari unit ukrain cross border ini...   \n",
       "3  volunt cross polish border ukrain fight russia...   \n",
       "4  markhertl russian aircraft fli near lviv carv ...   \n",
       "\n",
       "                                     text_lemmatized  \n",
       "0  expen ineffect border wall smuggler breach tim...  \n",
       "1  donwaifu gabehay aaronjm american dress russia...  \n",
       "2  mayb one militari unit ukrain cross border ini...  \n",
       "3  volunt cross polish border ukrain fight russia...  \n",
       "4  markhertl russian aircraft fli near lviv carv ...  "
      ]
     },
     "execution_count": 14,
     "metadata": {},
     "output_type": "execute_result"
    }
   ],
   "source": [
    "# Lemmatization\n",
    "\n",
    "lemmatizer = WordNetLemmatizer()\n",
    "def lemmatize_words(text):\n",
    "    return \" \".join([lemmatizer.lemmatize(word) for word in text.split()])\n",
    "\n",
    "df[\"text_lemmatized\"] = df[\"text_stemmed\"].apply(lambda content: lemmatize_words(content))\n",
    "df.head()"
   ]
  },
  {
   "cell_type": "code",
   "execution_count": 15,
   "id": "7c8ed82b",
   "metadata": {},
   "outputs": [
    {
     "name": "stdout",
     "output_type": "stream",
     "text": [
      "[('ukrain', 886875), ('russia', 511609), ('nato', 310172), ('war', 280824), ('troop', 274646)]\n",
      "['ukrain', 'russia', 'nato', 'war', 'troop']\n"
     ]
    },
    {
     "data": {
      "text/plain": [
       "<AxesSubplot:>"
      ]
     },
     "execution_count": 15,
     "metadata": {},
     "output_type": "execute_result"
    },
    {
     "data": {
      "image/png": "[encoded data removed]",
      "text/plain": [
       "<Figure size 432x288 with 1 Axes>"
      ]
     },
     "metadata": {
      "needs_background": "light"
     },
     "output_type": "display_data"
    }
   ],
   "source": [
    "# Most Frequent words in a dataset\n",
    "from collections import Counter\n",
    "cnt = Counter()\n",
    "cnt_all = Counter()\n",
    "\n",
    "for text in df[\"text_lemmatized\"].values:\n",
    "    for word in text.split():\n",
    "        cnt[word] += 1\n",
    "\n",
    "print(cnt.most_common(5))\n",
    "common_words = cnt.most_common(5)\n",
    "print([i[0] for i in common_words])\n",
    "sns.barplot(x = [i[0] for i in common_words], y = [i[1] for i in common_words])"
   ]
  },
  {
   "cell_type": "code",
   "execution_count": null,
   "id": "decbfa0c",
   "metadata": {},
   "outputs": [],
   "source": []
  },
  {
   "cell_type": "code",
   "execution_count": 16,
   "id": "239a9f49",
   "metadata": {},
   "outputs": [
    {
     "name": "stdout",
     "output_type": "stream",
     "text": [
      "<wordcloud.wordcloud.WordCloud object at 0x000002191FC3C430>\n"
     ]
    },
    {
     "data": {
      "image/png": "[encoded data removed]",
      "text/plain": [
       "<Figure size 432x288 with 1 Axes>"
      ]
     },
     "metadata": {
      "needs_background": "light"
     },
     "output_type": "display_data"
    }
   ],
   "source": [
    "# Word cloud for data set\n",
    "wordcloud = WordCloud(background_color='white',\n",
    "                          max_font_size=40, \n",
    "                          random_state=42\n",
    "                         ).generate(str(df['text_lemmatized']))\n",
    "\n",
    "print(wordcloud)\n",
    "plt.imshow(wordcloud)\n",
    "plt.axis('off')\n",
    "plt.show()"
   ]
  },
  {
   "cell_type": "code",
   "execution_count": 17,
   "id": "9e2bebbf",
   "metadata": {},
   "outputs": [
    {
     "data": {
      "text/html": [
       "<div>\n",
       "<style scoped>\n",
       "    .dataframe tbody tr th:only-of-type {\n",
       "        vertical-align: middle;\n",
       "    }\n",
       "\n",
       "    .dataframe tbody tr th {\n",
       "        vertical-align: top;\n",
       "    }\n",
       "\n",
       "    .dataframe thead th {\n",
       "        text-align: right;\n",
       "    }\n",
       "</style>\n",
       "<table border=\"1\" class=\"dataframe\">\n",
       "  <thead>\n",
       "    <tr style=\"text-align: right;\">\n",
       "      <th></th>\n",
       "      <th>content</th>\n",
       "      <th>lang</th>\n",
       "      <th>text_lemmatized</th>\n",
       "    </tr>\n",
       "  </thead>\n",
       "  <tbody>\n",
       "    <tr>\n",
       "      <th>0</th>\n",
       "      <td>expens ineffect border wall smuggler breach  t...</td>\n",
       "      <td>en</td>\n",
       "      <td>expen ineffect border wall smuggler breach tim...</td>\n",
       "    </tr>\n",
       "    <tr>\n",
       "      <th>1</th>\n",
       "      <td>donwaifu gabehay aaronjm american dress russia...</td>\n",
       "      <td>en</td>\n",
       "      <td>donwaifu gabehay aaronjm american dress russia...</td>\n",
       "    </tr>\n",
       "    <tr>\n",
       "      <th>2</th>\n",
       "      <td>mayb one militari unit ukrain cross border ini...</td>\n",
       "      <td>en</td>\n",
       "      <td>mayb one militari unit ukrain cross border ini...</td>\n",
       "    </tr>\n",
       "    <tr>\n",
       "      <th>3</th>\n",
       "      <td>volunt cross polish border ukrain fight russia...</td>\n",
       "      <td>en</td>\n",
       "      <td>volunt cross polish border ukrain fight russia...</td>\n",
       "    </tr>\n",
       "    <tr>\n",
       "      <th>4</th>\n",
       "      <td>markhertl there russian aircraft fli near lviv...</td>\n",
       "      <td>en</td>\n",
       "      <td>markhertl russian aircraft fli near lviv carv ...</td>\n",
       "    </tr>\n",
       "  </tbody>\n",
       "</table>\n",
       "</div>"
      ],
      "text/plain": [
       "                                             content lang  \\\n",
       "0  expens ineffect border wall smuggler breach  t...   en   \n",
       "1  donwaifu gabehay aaronjm american dress russia...   en   \n",
       "2  mayb one militari unit ukrain cross border ini...   en   \n",
       "3  volunt cross polish border ukrain fight russia...   en   \n",
       "4  markhertl there russian aircraft fli near lviv...   en   \n",
       "\n",
       "                                     text_lemmatized  \n",
       "0  expen ineffect border wall smuggler breach tim...  \n",
       "1  donwaifu gabehay aaronjm american dress russia...  \n",
       "2  mayb one militari unit ukrain cross border ini...  \n",
       "3  volunt cross polish border ukrain fight russia...  \n",
       "4  markhertl russian aircraft fli near lviv carv ...  "
      ]
     },
     "execution_count": 17,
     "metadata": {},
     "output_type": "execute_result"
    }
   ],
   "source": [
    "# Drop the columns which is not required\n",
    "df.drop([\"text_wo_punct\", \"text_wo_stop\", \"text_stemmed\"], axis=1, inplace=True) \n",
    "df.head()"
   ]
  },
  {
   "cell_type": "code",
   "execution_count": 18,
   "id": "8b6948dd",
   "metadata": {},
   "outputs": [
    {
     "name": "stderr",
     "output_type": "stream",
     "text": [
      "[nltk_data] Downloading package vader_lexicon to\n",
      "[nltk_data]     C:\\Users\\ashok\\AppData\\Roaming\\nltk_data...\n",
      "[nltk_data]   Package vader_lexicon is already up-to-date!\n"
     ]
    },
    {
     "data": {
      "text/html": [
       "<div>\n",
       "<style scoped>\n",
       "    .dataframe tbody tr th:only-of-type {\n",
       "        vertical-align: middle;\n",
       "    }\n",
       "\n",
       "    .dataframe tbody tr th {\n",
       "        vertical-align: top;\n",
       "    }\n",
       "\n",
       "    .dataframe thead th {\n",
       "        text-align: right;\n",
       "    }\n",
       "</style>\n",
       "<table border=\"1\" class=\"dataframe\">\n",
       "  <thead>\n",
       "    <tr style=\"text-align: right;\">\n",
       "      <th></th>\n",
       "      <th>content</th>\n",
       "      <th>lang</th>\n",
       "      <th>text_lemmatized</th>\n",
       "      <th>Positive</th>\n",
       "      <th>Negative</th>\n",
       "      <th>Neutral</th>\n",
       "    </tr>\n",
       "  </thead>\n",
       "  <tbody>\n",
       "    <tr>\n",
       "      <th>0</th>\n",
       "      <td>expens ineffect border wall smuggler breach  t...</td>\n",
       "      <td>en</td>\n",
       "      <td>expen ineffect border wall smuggler breach tim...</td>\n",
       "      <td>0.000</td>\n",
       "      <td>0.147</td>\n",
       "      <td>0.853</td>\n",
       "    </tr>\n",
       "    <tr>\n",
       "      <th>1</th>\n",
       "      <td>donwaifu gabehay aaronjm american dress russia...</td>\n",
       "      <td>en</td>\n",
       "      <td>donwaifu gabehay aaronjm american dress russia...</td>\n",
       "      <td>0.000</td>\n",
       "      <td>0.186</td>\n",
       "      <td>0.814</td>\n",
       "    </tr>\n",
       "    <tr>\n",
       "      <th>2</th>\n",
       "      <td>mayb one militari unit ukrain cross border ini...</td>\n",
       "      <td>en</td>\n",
       "      <td>mayb one militari unit ukrain cross border ini...</td>\n",
       "      <td>0.000</td>\n",
       "      <td>0.155</td>\n",
       "      <td>0.845</td>\n",
       "    </tr>\n",
       "    <tr>\n",
       "      <th>3</th>\n",
       "      <td>volunt cross polish border ukrain fight russia...</td>\n",
       "      <td>en</td>\n",
       "      <td>volunt cross polish border ukrain fight russia...</td>\n",
       "      <td>0.000</td>\n",
       "      <td>0.271</td>\n",
       "      <td>0.729</td>\n",
       "    </tr>\n",
       "    <tr>\n",
       "      <th>4</th>\n",
       "      <td>markhertl there russian aircraft fli near lviv...</td>\n",
       "      <td>en</td>\n",
       "      <td>markhertl russian aircraft fli near lviv carv ...</td>\n",
       "      <td>0.166</td>\n",
       "      <td>0.213</td>\n",
       "      <td>0.621</td>\n",
       "    </tr>\n",
       "  </tbody>\n",
       "</table>\n",
       "</div>"
      ],
      "text/plain": [
       "                                             content lang  \\\n",
       "0  expens ineffect border wall smuggler breach  t...   en   \n",
       "1  donwaifu gabehay aaronjm american dress russia...   en   \n",
       "2  mayb one militari unit ukrain cross border ini...   en   \n",
       "3  volunt cross polish border ukrain fight russia...   en   \n",
       "4  markhertl there russian aircraft fli near lviv...   en   \n",
       "\n",
       "                                     text_lemmatized  Positive  Negative  \\\n",
       "0  expen ineffect border wall smuggler breach tim...     0.000     0.147   \n",
       "1  donwaifu gabehay aaronjm american dress russia...     0.000     0.186   \n",
       "2  mayb one militari unit ukrain cross border ini...     0.000     0.155   \n",
       "3  volunt cross polish border ukrain fight russia...     0.000     0.271   \n",
       "4  markhertl russian aircraft fli near lviv carv ...     0.166     0.213   \n",
       "\n",
       "   Neutral  \n",
       "0    0.853  \n",
       "1    0.814  \n",
       "2    0.845  \n",
       "3    0.729  \n",
       "4    0.621  "
      ]
     },
     "execution_count": 18,
     "metadata": {},
     "output_type": "execute_result"
    }
   ],
   "source": [
    "# Sentiment analysis\n",
    "\n",
    "nltk.download('vader_lexicon')\n",
    "sentiments = SentimentIntensityAnalyzer()\n",
    "df[\"Positive\"] = [sentiments.polarity_scores(i)[\"pos\"] for i in df[\"text_lemmatized\"]]\n",
    "df[\"Negative\"] = [sentiments.polarity_scores(i)[\"neg\"] for i in df[\"text_lemmatized\"]]\n",
    "df[\"Neutral\"] = [sentiments.polarity_scores(i)[\"neu\"] for i in df[\"text_lemmatized\"]]\n",
    "\n",
    "df.head()"
   ]
  },
  {
   "cell_type": "code",
   "execution_count": 19,
   "id": "059f3172",
   "metadata": {},
   "outputs": [],
   "source": [
    "df['Polarity_Score']=df[\"text_lemmatized\"].apply(lambda x:sentiments.polarity_scores(x)['compound'])"
   ]
  },
  {
   "cell_type": "code",
   "execution_count": 20,
   "id": "ba6a6329",
   "metadata": {},
   "outputs": [
    {
     "data": {
      "text/html": [
       "<div>\n",
       "<style scoped>\n",
       "    .dataframe tbody tr th:only-of-type {\n",
       "        vertical-align: middle;\n",
       "    }\n",
       "\n",
       "    .dataframe tbody tr th {\n",
       "        vertical-align: top;\n",
       "    }\n",
       "\n",
       "    .dataframe thead th {\n",
       "        text-align: right;\n",
       "    }\n",
       "</style>\n",
       "<table border=\"1\" class=\"dataframe\">\n",
       "  <thead>\n",
       "    <tr style=\"text-align: right;\">\n",
       "      <th></th>\n",
       "      <th>content</th>\n",
       "      <th>lang</th>\n",
       "      <th>text_lemmatized</th>\n",
       "      <th>Positive</th>\n",
       "      <th>Negative</th>\n",
       "      <th>Neutral</th>\n",
       "      <th>Polarity_Score</th>\n",
       "    </tr>\n",
       "  </thead>\n",
       "  <tbody>\n",
       "    <tr>\n",
       "      <th>0</th>\n",
       "      <td>expens ineffect border wall smuggler breach  t...</td>\n",
       "      <td>en</td>\n",
       "      <td>expen ineffect border wall smuggler breach tim...</td>\n",
       "      <td>0.000</td>\n",
       "      <td>0.147</td>\n",
       "      <td>0.853</td>\n",
       "      <td>-0.4767</td>\n",
       "    </tr>\n",
       "    <tr>\n",
       "      <th>1</th>\n",
       "      <td>donwaifu gabehay aaronjm american dress russia...</td>\n",
       "      <td>en</td>\n",
       "      <td>donwaifu gabehay aaronjm american dress russia...</td>\n",
       "      <td>0.000</td>\n",
       "      <td>0.186</td>\n",
       "      <td>0.814</td>\n",
       "      <td>-0.4939</td>\n",
       "    </tr>\n",
       "    <tr>\n",
       "      <th>2</th>\n",
       "      <td>mayb one militari unit ukrain cross border ini...</td>\n",
       "      <td>en</td>\n",
       "      <td>mayb one militari unit ukrain cross border ini...</td>\n",
       "      <td>0.000</td>\n",
       "      <td>0.155</td>\n",
       "      <td>0.845</td>\n",
       "      <td>-0.2960</td>\n",
       "    </tr>\n",
       "    <tr>\n",
       "      <th>3</th>\n",
       "      <td>volunt cross polish border ukrain fight russia...</td>\n",
       "      <td>en</td>\n",
       "      <td>volunt cross polish border ukrain fight russia...</td>\n",
       "      <td>0.000</td>\n",
       "      <td>0.271</td>\n",
       "      <td>0.729</td>\n",
       "      <td>-0.3818</td>\n",
       "    </tr>\n",
       "    <tr>\n",
       "      <th>4</th>\n",
       "      <td>markhertl there russian aircraft fli near lviv...</td>\n",
       "      <td>en</td>\n",
       "      <td>markhertl russian aircraft fli near lviv carv ...</td>\n",
       "      <td>0.166</td>\n",
       "      <td>0.213</td>\n",
       "      <td>0.621</td>\n",
       "      <td>-0.1531</td>\n",
       "    </tr>\n",
       "  </tbody>\n",
       "</table>\n",
       "</div>"
      ],
      "text/plain": [
       "                                             content lang  \\\n",
       "0  expens ineffect border wall smuggler breach  t...   en   \n",
       "1  donwaifu gabehay aaronjm american dress russia...   en   \n",
       "2  mayb one militari unit ukrain cross border ini...   en   \n",
       "3  volunt cross polish border ukrain fight russia...   en   \n",
       "4  markhertl there russian aircraft fli near lviv...   en   \n",
       "\n",
       "                                     text_lemmatized  Positive  Negative  \\\n",
       "0  expen ineffect border wall smuggler breach tim...     0.000     0.147   \n",
       "1  donwaifu gabehay aaronjm american dress russia...     0.000     0.186   \n",
       "2  mayb one militari unit ukrain cross border ini...     0.000     0.155   \n",
       "3  volunt cross polish border ukrain fight russia...     0.000     0.271   \n",
       "4  markhertl russian aircraft fli near lviv carv ...     0.166     0.213   \n",
       "\n",
       "   Neutral  Polarity_Score  \n",
       "0    0.853         -0.4767  \n",
       "1    0.814         -0.4939  \n",
       "2    0.845         -0.2960  \n",
       "3    0.729         -0.3818  \n",
       "4    0.621         -0.1531  "
      ]
     },
     "execution_count": 20,
     "metadata": {},
     "output_type": "execute_result"
    }
   ],
   "source": [
    "df.head()"
   ]
  },
  {
   "cell_type": "code",
   "execution_count": 21,
   "id": "91777f41",
   "metadata": {},
   "outputs": [],
   "source": [
    "df['Sentiment']=''\n",
    "df.loc[df['Polarity_Score']>0,'Sentiment']='Positive'\n",
    "df.loc[df['Polarity_Score']==0,'Sentiment']='Neutral'\n",
    "df.loc[df['Polarity_Score']<0,'Sentiment']='Negative'"
   ]
  },
  {
   "cell_type": "code",
   "execution_count": 22,
   "id": "86b8975d",
   "metadata": {},
   "outputs": [
    {
     "data": {
      "text/plain": [
       "Negative    506001\n",
       "Positive    262324\n",
       "Neutral     224603\n",
       "Name: Sentiment, dtype: int64"
      ]
     },
     "execution_count": 22,
     "metadata": {},
     "output_type": "execute_result"
    }
   ],
   "source": [
    "df['Sentiment'].value_counts()"
   ]
  },
  {
   "cell_type": "code",
   "execution_count": null,
   "id": "948d7145",
   "metadata": {},
   "outputs": [],
   "source": []
  },
  {
   "cell_type": "code",
   "execution_count": 23,
   "id": "bf088db7",
   "metadata": {},
   "outputs": [
    {
     "data": {
      "text/plain": [
       "(array([2.54802463, 0.        , 0.        , 0.        , 0.        ,\n",
       "        1.32096184, 0.        , 0.        , 0.        , 1.13101353]),\n",
       " array([0. , 0.2, 0.4, 0.6, 0.8, 1. , 1.2, 1.4, 1.6, 1.8, 2. ]),\n",
       " <BarContainer object of 10 artists>)"
      ]
     },
     "execution_count": 23,
     "metadata": {},
     "output_type": "execute_result"
    },
    {
     "data": {
      "image/png": "[encoded data removed]",
      "text/plain": [
       "<Figure size 432x288 with 1 Axes>"
      ]
     },
     "metadata": {
      "needs_background": "light"
     },
     "output_type": "display_data"
    }
   ],
   "source": [
    "plt.hist(df['Sentiment'], 10, density=True, alpha=0.75, color = \"lightblue\", ec=\"red\", lw=5)"
   ]
  },
  {
   "cell_type": "code",
   "execution_count": 24,
   "id": "72eb00d9",
   "metadata": {},
   "outputs": [
    {
     "name": "stdout",
     "output_type": "stream",
     "text": [
      "262324 506001 224603\n"
     ]
    }
   ],
   "source": [
    "#df[df['B']==3]['A']\n",
    "lst_pos = df[df[\"Sentiment\"] == \"Positive\"]['text_lemmatized']\n",
    "lst_neg = df[df[\"Sentiment\"] == \"Negative\"]['text_lemmatized']\n",
    "lst_net = df[df[\"Sentiment\"] == \"Neutral\"]['text_lemmatized']\n",
    "print(len(lst_pos), len(lst_neg), len(lst_net))"
   ]
  },
  {
   "cell_type": "code",
   "execution_count": 25,
   "id": "f72d6ba6",
   "metadata": {},
   "outputs": [],
   "source": [
    "lsss_pos = [i for i in lst_pos]\n",
    "lsss_neg = [i for i in lst_neg]\n",
    "lsss_net = [i for i in lst_net]"
   ]
  },
  {
   "cell_type": "code",
   "execution_count": 26,
   "id": "ed28188c",
   "metadata": {},
   "outputs": [
    {
     "data": {
      "text/plain": [
       "'radiofreetom thelastword oki doki sure mention donbas amp amp yr neonazi go fellow ukrainian includ child speak russian u fund biolab amp missil eastern border cia meddl ukrain sinc wwii cia paramilitari zelenski instal actor…🤔'"
      ]
     },
     "execution_count": 26,
     "metadata": {},
     "output_type": "execute_result"
    }
   ],
   "source": [
    "lsss_pos[2]"
   ]
  },
  {
   "cell_type": "code",
   "execution_count": 27,
   "id": "aa380d68",
   "metadata": {},
   "outputs": [
    {
     "name": "stdout",
     "output_type": "stream",
     "text": [
      "[('ukrain', 239492), ('russia', 135593), ('nato', 109226), ('troop', 68373), ('invad', 66560)]\n",
      "['ukrain', 'russia', 'nato', 'troop', 'invad']\n"
     ]
    },
    {
     "data": {
      "text/plain": [
       "<AxesSubplot:>"
      ]
     },
     "execution_count": 27,
     "metadata": {},
     "output_type": "execute_result"
    },
    {
     "data": {
      "image/png": "[encoded data removed]",
      "text/plain": [
       "<Figure size 432x288 with 1 Axes>"
      ]
     },
     "metadata": {
      "needs_background": "light"
     },
     "output_type": "display_data"
    }
   ],
   "source": [
    "from collections import Counter\n",
    "cnt = Counter()\n",
    "cnt_all = Counter()\n",
    "\n",
    "for text in lsss_pos:\n",
    "    for word in text.split():\n",
    "        cnt[word] += 1\n",
    "\n",
    "print(cnt.most_common(5))\n",
    "common_words = cnt.most_common(5)\n",
    "print([i[0] for i in common_words])\n",
    "sns.barplot(x = [i[0] for i in common_words], y = [i[1] for i in common_words])"
   ]
  },
  {
   "cell_type": "code",
   "execution_count": 28,
   "id": "5569105a",
   "metadata": {},
   "outputs": [],
   "source": [
    "import spacy\n",
    "import en_core_web_sm\n"
   ]
  },
  {
   "cell_type": "code",
   "execution_count": 30,
   "id": "3236d7ae",
   "metadata": {},
   "outputs": [
    {
     "name": "stdout",
     "output_type": "stream",
     "text": [
      "10001 10001 10001\n"
     ]
    }
   ],
   "source": [
    "nlp = en_core_web_sm.load()\n",
    "count =0\n",
    "pos_keys = []\n",
    "for i in lsss_pos:\n",
    "    text = i\n",
    "    doc = nlp(text)\n",
    "    pos_keys.append(doc.ents)\n",
    "    count += 1\n",
    "    if count > 10000:\n",
    "        break\n",
    "\n",
    "count = 0\n",
    "neg_keys = []\n",
    "for i in lsss_neg:\n",
    "    text = i\n",
    "    doc = nlp(text)\n",
    "    neg_keys.append(doc.ents)\n",
    "    count += 1\n",
    "    if count > 10000:\n",
    "        break\n",
    "        \n",
    "count = 0\n",
    "net_keys = []\n",
    "for i in lsss_net:\n",
    "    text = i\n",
    "    doc = nlp(text)\n",
    "    net_keys.append(doc.ents)\n",
    "    count += 1\n",
    "    if count > 10000:\n",
    "        break\n",
    "        \n",
    "print(len(pos_keys), len(neg_keys), len(net_keys))"
   ]
  },
  {
   "cell_type": "code",
   "execution_count": 31,
   "id": "9ccc7079",
   "metadata": {},
   "outputs": [],
   "source": [
    "#print(pos_keys)"
   ]
  },
  {
   "cell_type": "code",
   "execution_count": 32,
   "id": "7f70fb4a",
   "metadata": {},
   "outputs": [],
   "source": [
    "pos_key1 = [val.text for code in pos_keys for val in code]\n",
    "neg_key1 = [val.text for code in neg_keys for val in code]\n",
    "net_key1 = [val.text for code in net_keys for val in code]\n",
    "#pos_key1 = set(pos_key1)\n",
    "#print(pos_key1)"
   ]
  },
  {
   "cell_type": "code",
   "execution_count": 33,
   "id": "ccf7ad06",
   "metadata": {},
   "outputs": [
    {
     "data": {
      "text/plain": [
       "'lhfang'"
      ]
     },
     "execution_count": 33,
     "metadata": {},
     "output_type": "execute_result"
    }
   ],
   "source": [
    "pos_key1[0]"
   ]
  },
  {
   "cell_type": "code",
   "execution_count": 34,
   "id": "773b3683",
   "metadata": {},
   "outputs": [],
   "source": [
    "from collections import Counter\n",
    "cnt = Counter()\n",
    "cnt_all = Counter()\n",
    "\n",
    "for text in pos_key1:\n",
    "    cnt[text] += 1\n",
    "\n",
    "#print(cnt)\n",
    "common_words = cnt.most_common(5)\n",
    "#print([i[0] for i in common_words])\n",
    "#sns.barplot(x = [i[0] for i in common_words], y = [i[1] for i in common_words])"
   ]
  },
  {
   "cell_type": "code",
   "execution_count": 35,
   "id": "513f42e1",
   "metadata": {},
   "outputs": [],
   "source": [
    "#pos_key1"
   ]
  },
  {
   "cell_type": "code",
   "execution_count": 39,
   "id": "73aa75dc",
   "metadata": {},
   "outputs": [],
   "source": [
    "#from tensorflow import keras\n",
    "import tensorflow as tf\n",
    "#from tf.keras.preprocessing.text import Tokenizer\n",
    "#from nltk.tokenize import word_tokenize\n",
    "#from tokenize import tokenize"
   ]
  },
  {
   "cell_type": "code",
   "execution_count": 40,
   "id": "52bd30cd",
   "metadata": {},
   "outputs": [],
   "source": [
    "docs = pos_key1 + neg_key1 + net_key1"
   ]
  },
  {
   "cell_type": "code",
   "execution_count": 41,
   "id": "f3d7baaf",
   "metadata": {},
   "outputs": [],
   "source": [
    "#tokenizer = tf.keras.preprocessing.text.Tokenizer()\n",
    "#tokenizer =  tokenize"
   ]
  },
  {
   "cell_type": "code",
   "execution_count": 42,
   "id": "900a70c2",
   "metadata": {},
   "outputs": [],
   "source": [
    "#tokenizer.fit_on_texts(docs)\n"
   ]
  },
  {
   "cell_type": "code",
   "execution_count": null,
   "id": "76251619",
   "metadata": {},
   "outputs": [],
   "source": []
  },
  {
   "cell_type": "code",
   "execution_count": 43,
   "id": "9f6850f3",
   "metadata": {},
   "outputs": [],
   "source": [
    "from sklearn.feature_extraction.text import TfidfVectorizer\n",
    "from sklearn import svm\n",
    "from sklearn.metrics import accuracy_score, classification_report, f1_score,confusion_matrix\n",
    "from sklearn.feature_extraction.text import CountVectorizer"
   ]
  },
  {
   "cell_type": "code",
   "execution_count": 75,
   "id": "044c9d42",
   "metadata": {},
   "outputs": [],
   "source": [
    "X_train, X_test, y_train, y_test = train_test_split(df['text_lemmatized'],df['Sentiment'], test_size=0.3,random_state=0)"
   ]
  },
  {
   "cell_type": "code",
   "execution_count": 99,
   "id": "0fae9009",
   "metadata": {},
   "outputs": [],
   "source": [
    "\n",
    "t_tweet = TfidfVectorizer(min_df = 5).fit(X_train)\n",
    "#Create the SVM Model and fit the train and test data\n",
    "\n"
   ]
  },
  {
   "cell_type": "code",
   "execution_count": 77,
   "id": "f32b70d8",
   "metadata": {},
   "outputs": [],
   "source": [
    "# Fit the training data to Count Vectorizer\n",
    "cVector = CountVectorizer().fit(X_train)\n",
    "X_train_vect = cVector.transform(X_train)\n"
   ]
  },
  {
   "cell_type": "code",
   "execution_count": 78,
   "id": "09a9d9dc",
   "metadata": {},
   "outputs": [
    {
     "data": {
      "text/plain": [
       "SVC(kernel='linear')"
      ]
     },
     "execution_count": 78,
     "metadata": {},
     "output_type": "execute_result"
    }
   ],
   "source": [
    "svm_tweet_model = svm.SVC(kernel='linear')\n",
    "# train the classifier: \n",
    "svm_tweet_model.fit(X_train_vect, y_train)"
   ]
  },
  {
   "cell_type": "code",
   "execution_count": 79,
   "id": "9689e125",
   "metadata": {
    "scrolled": true
   },
   "outputs": [
    {
     "name": "stdout",
     "output_type": "stream",
     "text": [
      "              precision    recall  f1-score   support\n",
      "\n",
      "    Negative       0.86      0.86      0.86      2916\n",
      "     Neutral       0.86      0.91      0.89      1499\n",
      "    Positive       0.78      0.74      0.76      1585\n",
      "\n",
      "    accuracy                           0.84      6000\n",
      "   macro avg       0.83      0.84      0.84      6000\n",
      "weighted avg       0.84      0.84      0.84      6000\n",
      "\n",
      "Accuracy score:  1\n",
      "F1_score:  1\n"
     ]
    }
   ],
   "source": [
    "# Predict the Y-test data with the above Model\n",
    "y_pred_tweet = svm_tweet_model.predict(cVector.transform(X_test))\n",
    "print(classification_report(y_test, y_pred_tweet))\n",
    "print('Accuracy score: ', round(accuracy_score(y_test, y_pred_tweet)))\n",
    "print('F1_score: ', round(f1_score(y_test, y_pred_tweet,average='micro')))"
   ]
  },
  {
   "cell_type": "code",
   "execution_count": 80,
   "id": "9579af10",
   "metadata": {},
   "outputs": [
    {
     "data": {
      "text/plain": [
       "0.8416666666666667"
      ]
     },
     "execution_count": 80,
     "metadata": {},
     "output_type": "execute_result"
    }
   ],
   "source": [
    "accuracy_score(y_test, y_pred_tweet)"
   ]
  },
  {
   "cell_type": "code",
   "execution_count": 81,
   "id": "00b632bf",
   "metadata": {},
   "outputs": [
    {
     "name": "stdout",
     "output_type": "stream",
     "text": [
      "accuracy : 0.8418333333333333\n"
     ]
    }
   ],
   "source": [
    "xTrain_tweets_tVect = t_tweet.transform(X_train)\n",
    "tweet_Model = svm.SVC(kernel='linear')\n",
    "tweet_Model.fit(xTrain_tweets_tVect, y_train)\n",
    "prediction_tweets = tweet_Model.predict(t_tweet.transform(X_test))\n",
    "print('accuracy :', accuracy_score(y_test, prediction_tweets))\n"
   ]
  },
  {
   "cell_type": "code",
   "execution_count": 90,
   "id": "d174d146",
   "metadata": {},
   "outputs": [],
   "source": [
    "import seaborn as sns\n",
    "from sklearn import metrics\n",
    "from sklearn.metrics import confusion_matrix, ConfusionMatrixDisplay"
   ]
  },
  {
   "cell_type": "code",
   "execution_count": 96,
   "id": "32f03d1f",
   "metadata": {},
   "outputs": [
    {
     "data": {
      "text/plain": [
       "[Text(0.5, 1.0, 'Negative/Positive/Neutral')]"
      ]
     },
     "execution_count": 96,
     "metadata": {},
     "output_type": "execute_result"
    },
    {
     "data": {
      "image/png": "[encoded data removed]",
      "text/plain": [
       "<Figure size 432x288 with 2 Axes>"
      ]
     },
     "metadata": {
      "needs_background": "light"
     },
     "output_type": "display_data"
    }
   ],
   "source": [
    "cm = confusion_matrix(y_test, prediction_tweets, normalize='all')\n",
    "cmd = ConfusionMatrixDisplay(cm, display_labels=['Negative', 'Positive','Neutral'])\n",
    "cmd.plot()\n",
    "cmd.ax_.set(title='Negative/Positive/Neutral')"
   ]
  },
  {
   "cell_type": "code",
   "execution_count": 54,
   "id": "04359efa",
   "metadata": {},
   "outputs": [],
   "source": [
    "#df[\"text_lemmatized\"][:10]"
   ]
  },
  {
   "cell_type": "code",
   "execution_count": 55,
   "id": "bc4be74c",
   "metadata": {},
   "outputs": [],
   "source": [
    "import re  # Library for regular opeartions expressions\n",
    "import string\n",
    "\n",
    "from nltk.corpus import stopwords\n",
    "from nltk.stem import PorterStemmer\n",
    "from nltk.tokenize import TweetTokenizer\n",
    "\n",
    "\n",
    "def process_tweet(tweet):\n",
    "    stemmer = PorterStemmer()\n",
    "    stopwords_english = stopwords.words('english')\n",
    "    tokenizer = TweetTokenizer(preserve_case=False, reduce_len=True, strip_handles=True)\n",
    "    tweet_tokens = tokenizer.tokenize(tweet)\n",
    "\n",
    "    tweets_clean = []\n",
    "\n",
    "    for word in tweet_tokens:\n",
    "        if (word not in stopwords_english and word not in string.punctuation):\n",
    "            stem_word = stemmer.stem(word)  #stemming\n",
    "            tweets_clean.append(stem_word)\n",
    "  \n",
    "    return tweets_clean"
   ]
  },
  {
   "cell_type": "code",
   "execution_count": 56,
   "id": "d19b7749",
   "metadata": {},
   "outputs": [],
   "source": [
    "# Logistic Regression\n",
    "\n",
    "def sigmoid(z):\n",
    "    h = 1/(1+np.exp(-z))\n",
    "    return h"
   ]
  },
  {
   "cell_type": "code",
   "execution_count": 57,
   "id": "aa5a8d76",
   "metadata": {},
   "outputs": [],
   "source": [
    "def gradientDescent(x, y, theta, alpha, num_iters):\n",
    "    m = x.shape[0]\n",
    "    for i in range(num_iters):\n",
    "        z = np.dot(x, theta)\n",
    "        h = sigmoid(z)\n",
    "\n",
    "        # cost function\n",
    "        J = (-1/m) * (np.dot(y.T, np.log(h)) + np.dot((1-y).T, np.log(1-h)))\n",
    "\n",
    "        # update the weights theta\n",
    "        theta = theta - (alpha/m)* (np.dot(x.T, h-y))\n",
    "    J = float(J)\n",
    "    return J, theta"
   ]
  },
  {
   "cell_type": "code",
   "execution_count": 58,
   "id": "8cbe5500",
   "metadata": {},
   "outputs": [],
   "source": [
    "def extract_features(tweet, freqs):\n",
    "    # Process the tweet\n",
    "    word_l = process_tweet(tweet)\n",
    "    #word_l = tweet\n",
    "    x = np.zeros((1, 3))\n",
    "    # bias term is set to 1\n",
    "    x[0, 0] = 1\n",
    "\n",
    "    for word in word_l:\n",
    "        x[0, 1] += freqs.get((word, 1), 0)\n",
    "        x[0, 2] += freqs.get((word, 0), 0)\n",
    "        \n",
    "    assert(x.shape==(1, 3))\n",
    "    return x"
   ]
  },
  {
   "cell_type": "code",
   "execution_count": 59,
   "id": "43ddb17c",
   "metadata": {},
   "outputs": [],
   "source": [
    "def build_freqs(tweets, ys):\n",
    "    yslist = np.squeeze(ys).tolist()\n",
    "    freqs = {}\n",
    "    for y, tweet in zip(yslist, tweets):\n",
    "        for word in process_tweet(tweet):\n",
    "            pair = (word, y)\n",
    "            if pair in freqs:\n",
    "                freqs[pair]+=1\n",
    "            else:\n",
    "                freqs[pair] =1\n",
    "    return freqs"
   ]
  },
  {
   "cell_type": "code",
   "execution_count": 60,
   "id": "86acbef3",
   "metadata": {},
   "outputs": [],
   "source": [
    "train_pos = df[df[\"Sentiment\"] == \"Positive\"]['text_lemmatized']\n",
    "test_pos = df[df[\"Sentiment\"] == \"Positive\"]['text_lemmatized']\n",
    "\n",
    "train_neg = df[df[\"Sentiment\"] == \"Negative\"]['text_lemmatized']\n",
    "test_neg = df[df[\"Sentiment\"] == \"Negative\"]['text_lemmatized']\n",
    "\n",
    "train_neu = df[df[\"Sentiment\"] == \"Neutral\"]['text_lemmatized']\n",
    "test_neu = df[df[\"Sentiment\"] == \"Neutral\"]['text_lemmatized']\n",
    "\n",
    "train_pos = str(train_pos)\n",
    "test_pos = str(test_pos)\n",
    "train_neg = str(train_neg)\n",
    "test_neg = str(test_neg)\n",
    "train_neu = str(train_neu)\n",
    "test_neu = str(test_neu)\n",
    "\n",
    "\n",
    "train_x =   train_neg + train_neu\n",
    "test_x =  test_neg + test_neu\n",
    "\n",
    "# making a numpy labels array\n",
    "\n",
    "train_y = np.append(np.ones((len(train_pos), 1)), np.zeros((len(train_neg), 1)), axis=0)\n",
    "test_y = np.append(np.ones((len(test_pos), 1)), np.zeros((len(test_neg), 1)), axis=0)"
   ]
  },
  {
   "cell_type": "code",
   "execution_count": null,
   "id": "4a466aea",
   "metadata": {},
   "outputs": [],
   "source": []
  },
  {
   "cell_type": "code",
   "execution_count": 61,
   "id": "f2c4afa8",
   "metadata": {},
   "outputs": [
    {
     "name": "stdout",
     "output_type": "stream",
     "text": [
      "Type of freqs :  <class 'dict'>\n",
      "Length of freqs :  51\n"
     ]
    }
   ],
   "source": [
    "freqs = build_freqs(train_x, train_y)\n",
    "\n",
    "print('Type of freqs : ', type(freqs))\n",
    "print('Length of freqs : ', len(freqs))"
   ]
  },
  {
   "cell_type": "code",
   "execution_count": 62,
   "id": "66b82900",
   "metadata": {},
   "outputs": [],
   "source": [
    "X_train, X_test, y_train, y_test = train_test_split(df['text_lemmatized'],df['Sentiment'], test_size=0.3,random_state=0)"
   ]
  },
  {
   "cell_type": "code",
   "execution_count": 63,
   "id": "7609a756",
   "metadata": {},
   "outputs": [
    {
     "name": "stdout",
     "output_type": "stream",
     "text": [
      "The cost after training is 0.69314717.\n",
      "The resulting vector of weights is [0.0, 8e-08, -8e-08]\n"
     ]
    }
   ],
   "source": [
    "X = np.zeros((len(train_x), 3))\n",
    "for i in range(len(train_x)):\n",
    "    X[i, :] = extract_features(train_x[i], freqs)\n",
    "\n",
    "# training levels corrosponding to X\n",
    "Y = train_y\n",
    "\n",
    "# Applying Gradient Descent\n",
    "J, theta = gradientDescent(X, Y, np.zeros((3, 1)), 1e-9, 1500)\n",
    "\n",
    "print(f\"The cost after training is {J:.8f}.\")\n",
    "print(f\"The resulting vector of weights is {[round(t, 8) for t in np.squeeze(theta)]}\")"
   ]
  },
  {
   "cell_type": "code",
   "execution_count": 64,
   "id": "e8819ba3",
   "metadata": {},
   "outputs": [],
   "source": [
    "def predict_tweet(tweet, freqs, theta):\n",
    "    x = extract_features(tweet, freqs) \n",
    "    # make prediction\n",
    "    y_pred = sigmoid(np.dot(x, theta))\n",
    "    return y_pred"
   ]
  },
  {
   "cell_type": "code",
   "execution_count": 97,
   "id": "bf0d66f7",
   "metadata": {},
   "outputs": [],
   "source": [
    "def test_logistic_regression(test_x, test_y, feqs, theta):\n",
    "    # empty list for storing predictions\n",
    "    y_hat = []\n",
    "\n",
    "    for tweet in test_x:\n",
    "        y_pred = predict_tweet(tweet, freqs, theta)\n",
    "        if y_pred >0.5:\n",
    "            y_hat.append(1)\n",
    "        else:\n",
    "            y_hat.append(0)\n",
    "    \n",
    "    accuracy = (y_hat==np.squeeze(test_y)).sum()/len(test_x)\n",
    "    return accuracy "
   ]
  },
  {
   "cell_type": "code",
   "execution_count": 98,
   "id": "53b2ba7e",
   "metadata": {},
   "outputs": [
    {
     "name": "stdout",
     "output_type": "stream",
     "text": [
      "The accuracy of Logistic Regression is : 0.8210755813953488\n"
     ]
    }
   ],
   "source": [
    "accuracy = test_logistic_regression(test_x, test_y, freqs, theta)\n",
    "print('The accuracy of Logistic Regression is :', accuracy)"
   ]
  },
  {
   "cell_type": "code",
   "execution_count": 67,
   "id": "bdd4ab14",
   "metadata": {},
   "outputs": [
    {
     "name": "stdout",
     "output_type": "stream",
     "text": [
      "['russia', 'pull', 'back', 'millitari', 'forc', 'ukrain', 'border']\n",
      "Positive\n"
     ]
    }
   ],
   "source": [
    "txt = 'Russia should not pull back their millitary forces from ukraine border'\n",
    "print(process_tweet(txt))\n",
    "y_hat = predict_tweet(txt, freqs, theta)\n",
    "\n",
    "if y_hat > 0.5:\n",
    "    print('Positive')\n",
    "else:\n",
    "    print('Negative')"
   ]
  },
  {
   "cell_type": "code",
   "execution_count": null,
   "id": "3b61a0f4",
   "metadata": {},
   "outputs": [],
   "source": []
  }
 ],
 "metadata": {
  "kernelspec": {
   "display_name": "Python 3",
   "language": "python",
   "name": "python3"
  },
  "language_info": {
   "codemirror_mode": {
    "name": "ipython",
    "version": 3
   },
   "file_extension": ".py",
   "mimetype": "text/x-python",
   "name": "python",
   "nbconvert_exporter": "python",
   "pygments_lexer": "ipython3",
   "version": "3.8.8"
  }
 },
 "nbformat": 4,
 "nbformat_minor": 5
}
